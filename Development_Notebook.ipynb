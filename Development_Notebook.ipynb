{
  "nbformat": 4,
  "nbformat_minor": 0,
  "metadata": {
    "colab": {
      "provenance": [],
      "authorship_tag": "ABX9TyOqWqyGBg8OhoLzeh7ERN2g",
      "include_colab_link": true
    },
    "kernelspec": {
      "name": "python3",
      "display_name": "Python 3"
    },
    "language_info": {
      "name": "python"
    }
  },
  "cells": [
    {
      "cell_type": "markdown",
      "metadata": {
        "id": "view-in-github",
        "colab_type": "text"
      },
      "source": [
        "<a href=\"https://colab.research.google.com/github/Lileshwar26/Assessment-2-/blob/main/Development_Notebook.ipynb\" target=\"_parent\"><img src=\"https://colab.research.google.com/assets/colab-badge.svg\" alt=\"Open In Colab\"/></a>"
      ]
    },
    {
      "cell_type": "markdown",
      "source": [
        "### **Downloading the Enron database**"
      ],
      "metadata": {
        "id": "3U9GRk0-SrFV"
      }
    },
    {
      "cell_type": "code",
      "source": [
        "# make use of the link provided to obtain the file\n",
        "# make use of the !wget function to download the database file 'enron.db "
      ],
      "metadata": {
        "id": "DZn4n8hgS0Z9"
      },
      "execution_count": 2,
      "outputs": []
    },
    {
      "cell_type": "markdown",
      "source": [
        "### **Import of Library**"
      ],
      "metadata": {
        "id": "tjGgt7riWQsl"
      }
    },
    {
      "cell_type": "code",
      "source": [
        "# import the library sqlite3 to manipulate data from the database\n",
        "# import pandas \n",
        "# import matplotlib.pyplot as plt\n",
        "# import seaborn as sns"
      ],
      "metadata": {
        "id": "0so_0RaWWdt0"
      },
      "execution_count": 3,
      "outputs": []
    },
    {
      "cell_type": "markdown",
      "source": [
        "### **Establishment of connection**"
      ],
      "metadata": {
        "id": "S4bAzfUCXYmH"
      }
    },
    {
      "cell_type": "code",
      "source": [
        "# Setting up connection to sqlite3 library to interact with the database\n",
        "# Creation of cursor object "
      ],
      "metadata": {
        "id": "WD-qNrcsXlVA"
      },
      "execution_count": 4,
      "outputs": []
    },
    {
      "cell_type": "markdown",
      "source": [
        "### **Check schema**"
      ],
      "metadata": {
        "id": "e_J5gxTjXuT3"
      }
    },
    {
      "cell_type": "code",
      "source": [
        "# check schema of the database using pragma\n",
        "# write sql queries to obtain information from the database\n",
        "# make use of fetchall() to otain important elements"
      ],
      "metadata": {
        "id": "KEg0GASOX2Qo"
      },
      "execution_count": 5,
      "outputs": []
    },
    {
      "cell_type": "markdown",
      "source": [
        "### **Data Manipulation**"
      ],
      "metadata": {
        "id": "Vx6JMnvJZLgD"
      }
    },
    {
      "cell_type": "code",
      "source": [
        "# write sql query to load data into the dataframe \n",
        "# use of sql query to display important contents from the database into tables\n",
        "# extract data and display as lists"
      ],
      "metadata": {
        "id": "AeO1z3sSZCfx"
      },
      "execution_count": 6,
      "outputs": []
    },
    {
      "cell_type": "markdown",
      "source": [
        "### **Data Representation**\n"
      ],
      "metadata": {
        "id": "1jFWCZP3bnKw"
      }
    },
    {
      "cell_type": "code",
      "source": [
        "# plotting of graphs for email traffic overtime\n",
        "# drawing of bar charts for top senders and top receivers of emails \n",
        "# drawing of pie chart for recipients types"
      ],
      "metadata": {
        "id": "-QZCNS4bb5sI"
      },
      "execution_count": 7,
      "outputs": []
    },
    {
      "cell_type": "markdown",
      "source": [
        "### **Testing**"
      ],
      "metadata": {
        "id": "dtjFVTBxdlPD"
      }
    },
    {
      "cell_type": "code",
      "source": [
        "# had syntax errors when running the codes because of spelling and grammer mistakes\n",
        "# runtime errors due to internet connection problem, the code stopped running\n",
        "# name error, because i did not run all the codes \n",
        "# value error because value error in input of information when writing the codes"
      ],
      "metadata": {
        "id": "FT-JznBzdqlj"
      },
      "execution_count": 8,
      "outputs": []
    }
  ]
}